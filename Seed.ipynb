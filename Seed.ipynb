{
  "nbformat": 4,
  "nbformat_minor": 0,
  "metadata": {
    "colab": {
      "name": "Seed.ipynb",
      "version": "0.3.2",
      "provenance": [],
      "collapsed_sections": [],
      "include_colab_link": true
    },
    "kernelspec": {
      "name": "python3",
      "display_name": "Python 3"
    }
  },
  "cells": [
    {
      "cell_type": "markdown",
      "metadata": {
        "id": "view-in-github",
        "colab_type": "text"
      },
      "source": [
        "<a href=\"https://colab.research.google.com/github/roshank1605A04/Seeds-Dataset/blob/master/Seed.ipynb\" target=\"_parent\"><img src=\"https://colab.research.google.com/assets/colab-badge.svg\" alt=\"Open In Colab\"/></a>"
      ]
    },
    {
      "metadata": {
        "id": "lf_elutxUu37",
        "colab_type": "text"
      },
      "cell_type": "markdown",
      "source": [
        "**Importing Libraries**"
      ]
    },
    {
      "metadata": {
        "id": "UA2jtH_EUn-l",
        "colab_type": "code",
        "colab": {}
      },
      "cell_type": "code",
      "source": [
        "import numpy as np\n",
        "import pandas as pd\n",
        "\n",
        "import matplotlib.pyplot as plt"
      ],
      "execution_count": 0,
      "outputs": []
    },
    {
      "metadata": {
        "id": "HBXBn4NXVbp-",
        "colab_type": "text"
      },
      "cell_type": "markdown",
      "source": [
        "**Importing the dataset**"
      ]
    },
    {
      "metadata": {
        "id": "b5reBRcEVapO",
        "colab_type": "code",
        "outputId": "468a9e37-df16-48ee-90a1-f5c31c7b0445",
        "colab": {
          "base_uri": "https://localhost:8080/",
          "height": 224
        }
      },
      "cell_type": "code",
      "source": [
        "data = pd.read_csv('drive/My Drive/Projects/seed/seeds.csv')\n",
        "print(data.shape)\n",
        "data.head()"
      ],
      "execution_count": 0,
      "outputs": [
        {
          "output_type": "stream",
          "text": [
            "(140, 8)\n"
          ],
          "name": "stdout"
        },
        {
          "output_type": "execute_result",
          "data": {
            "text/html": [
              "<div>\n",
              "<style scoped>\n",
              "    .dataframe tbody tr th:only-of-type {\n",
              "        vertical-align: middle;\n",
              "    }\n",
              "\n",
              "    .dataframe tbody tr th {\n",
              "        vertical-align: top;\n",
              "    }\n",
              "\n",
              "    .dataframe thead th {\n",
              "        text-align: right;\n",
              "    }\n",
              "</style>\n",
              "<table border=\"1\" class=\"dataframe\">\n",
              "  <thead>\n",
              "    <tr style=\"text-align: right;\">\n",
              "      <th></th>\n",
              "      <th>AREA</th>\n",
              "      <th>PERIMETER</th>\n",
              "      <th>COMPACTNESS</th>\n",
              "      <th>LENGTH</th>\n",
              "      <th>WIDTH</th>\n",
              "      <th>ASSYMMETRY_COEFFICIENT</th>\n",
              "      <th>GROOVE_LENGTH</th>\n",
              "      <th>TYPE</th>\n",
              "    </tr>\n",
              "  </thead>\n",
              "  <tbody>\n",
              "    <tr>\n",
              "      <th>0</th>\n",
              "      <td>15.26</td>\n",
              "      <td>14.84</td>\n",
              "      <td>0.8710</td>\n",
              "      <td>5.763</td>\n",
              "      <td>3.312</td>\n",
              "      <td>2.221</td>\n",
              "      <td>5.220</td>\n",
              "      <td>1</td>\n",
              "    </tr>\n",
              "    <tr>\n",
              "      <th>1</th>\n",
              "      <td>14.88</td>\n",
              "      <td>14.57</td>\n",
              "      <td>0.8811</td>\n",
              "      <td>5.554</td>\n",
              "      <td>3.333</td>\n",
              "      <td>1.018</td>\n",
              "      <td>4.956</td>\n",
              "      <td>1</td>\n",
              "    </tr>\n",
              "    <tr>\n",
              "      <th>2</th>\n",
              "      <td>14.29</td>\n",
              "      <td>14.09</td>\n",
              "      <td>0.9050</td>\n",
              "      <td>5.291</td>\n",
              "      <td>3.337</td>\n",
              "      <td>2.699</td>\n",
              "      <td>4.825</td>\n",
              "      <td>1</td>\n",
              "    </tr>\n",
              "    <tr>\n",
              "      <th>3</th>\n",
              "      <td>13.84</td>\n",
              "      <td>13.94</td>\n",
              "      <td>0.8955</td>\n",
              "      <td>5.324</td>\n",
              "      <td>3.379</td>\n",
              "      <td>2.259</td>\n",
              "      <td>4.805</td>\n",
              "      <td>1</td>\n",
              "    </tr>\n",
              "    <tr>\n",
              "      <th>4</th>\n",
              "      <td>16.14</td>\n",
              "      <td>14.99</td>\n",
              "      <td>0.9034</td>\n",
              "      <td>5.658</td>\n",
              "      <td>3.562</td>\n",
              "      <td>1.355</td>\n",
              "      <td>5.175</td>\n",
              "      <td>1</td>\n",
              "    </tr>\n",
              "  </tbody>\n",
              "</table>\n",
              "</div>"
            ],
            "text/plain": [
              "    AREA  PERIMETER  COMPACTNESS  LENGTH  WIDTH  ASSYMMETRY_COEFFICIENT  \\\n",
              "0  15.26      14.84       0.8710   5.763  3.312                   2.221   \n",
              "1  14.88      14.57       0.8811   5.554  3.333                   1.018   \n",
              "2  14.29      14.09       0.9050   5.291  3.337                   2.699   \n",
              "3  13.84      13.94       0.8955   5.324  3.379                   2.259   \n",
              "4  16.14      14.99       0.9034   5.658  3.562                   1.355   \n",
              "\n",
              "   GROOVE_LENGTH  TYPE  \n",
              "0          5.220     1  \n",
              "1          4.956     1  \n",
              "2          4.825     1  \n",
              "3          4.805     1  \n",
              "4          5.175     1  "
            ]
          },
          "metadata": {
            "tags": []
          },
          "execution_count": 5
        }
      ]
    },
    {
      "metadata": {
        "id": "XHK97TJ7Vn7T",
        "colab_type": "code",
        "outputId": "c03b22ee-2938-40fd-a5b9-39cecca8a559",
        "colab": {
          "base_uri": "https://localhost:8080/",
          "height": 184
        }
      },
      "cell_type": "code",
      "source": [
        "data.isnull().sum()"
      ],
      "execution_count": 0,
      "outputs": [
        {
          "output_type": "execute_result",
          "data": {
            "text/plain": [
              "AREA                      0\n",
              "PERIMETER                 0\n",
              "COMPACTNESS               0\n",
              "LENGTH                    0\n",
              "WIDTH                     0\n",
              "ASSYMMETRY_COEFFICIENT    0\n",
              "GROOVE_LENGTH             0\n",
              "TYPE                      0\n",
              "dtype: int64"
            ]
          },
          "metadata": {
            "tags": []
          },
          "execution_count": 6
        }
      ]
    },
    {
      "metadata": {
        "id": "BcUjRrBzWdsz",
        "colab_type": "code",
        "outputId": "c9476583-5374-4e2e-fdfb-588a96960473",
        "colab": {
          "base_uri": "https://localhost:8080/",
          "height": 320
        }
      },
      "cell_type": "code",
      "source": [
        "data.describe()\n"
      ],
      "execution_count": 0,
      "outputs": [
        {
          "output_type": "execute_result",
          "data": {
            "text/html": [
              "<div>\n",
              "<style scoped>\n",
              "    .dataframe tbody tr th:only-of-type {\n",
              "        vertical-align: middle;\n",
              "    }\n",
              "\n",
              "    .dataframe tbody tr th {\n",
              "        vertical-align: top;\n",
              "    }\n",
              "\n",
              "    .dataframe thead th {\n",
              "        text-align: right;\n",
              "    }\n",
              "</style>\n",
              "<table border=\"1\" class=\"dataframe\">\n",
              "  <thead>\n",
              "    <tr style=\"text-align: right;\">\n",
              "      <th></th>\n",
              "      <th>AREA</th>\n",
              "      <th>PERIMETER</th>\n",
              "      <th>COMPACTNESS</th>\n",
              "      <th>LENGTH</th>\n",
              "      <th>WIDTH</th>\n",
              "      <th>ASSYMMETRY_COEFFICIENT</th>\n",
              "      <th>GROOVE_LENGTH</th>\n",
              "      <th>TYPE</th>\n",
              "    </tr>\n",
              "  </thead>\n",
              "  <tbody>\n",
              "    <tr>\n",
              "      <th>count</th>\n",
              "      <td>140.000000</td>\n",
              "      <td>140.000000</td>\n",
              "      <td>140.000000</td>\n",
              "      <td>140.000000</td>\n",
              "      <td>140.000000</td>\n",
              "      <td>140.000000</td>\n",
              "      <td>140.000000</td>\n",
              "      <td>140.000000</td>\n",
              "    </tr>\n",
              "    <tr>\n",
              "      <th>mean</th>\n",
              "      <td>16.334357</td>\n",
              "      <td>15.215000</td>\n",
              "      <td>0.881794</td>\n",
              "      <td>5.828043</td>\n",
              "      <td>3.461021</td>\n",
              "      <td>3.156101</td>\n",
              "      <td>5.553907</td>\n",
              "      <td>1.500000</td>\n",
              "    </tr>\n",
              "    <tr>\n",
              "      <th>std</th>\n",
              "      <td>2.406400</td>\n",
              "      <td>1.099006</td>\n",
              "      <td>0.015887</td>\n",
              "      <td>0.406740</td>\n",
              "      <td>0.282686</td>\n",
              "      <td>1.272003</td>\n",
              "      <td>0.534693</td>\n",
              "      <td>0.501795</td>\n",
              "    </tr>\n",
              "    <tr>\n",
              "      <th>min</th>\n",
              "      <td>11.230000</td>\n",
              "      <td>12.630000</td>\n",
              "      <td>0.839200</td>\n",
              "      <td>4.902000</td>\n",
              "      <td>2.850000</td>\n",
              "      <td>0.765100</td>\n",
              "      <td>4.519000</td>\n",
              "      <td>1.000000</td>\n",
              "    </tr>\n",
              "    <tr>\n",
              "      <th>25%</th>\n",
              "      <td>14.362500</td>\n",
              "      <td>14.335000</td>\n",
              "      <td>0.871450</td>\n",
              "      <td>5.519000</td>\n",
              "      <td>3.239250</td>\n",
              "      <td>2.220000</td>\n",
              "      <td>5.095500</td>\n",
              "      <td>1.000000</td>\n",
              "    </tr>\n",
              "    <tr>\n",
              "      <th>50%</th>\n",
              "      <td>16.130000</td>\n",
              "      <td>15.130000</td>\n",
              "      <td>0.881850</td>\n",
              "      <td>5.808500</td>\n",
              "      <td>3.463500</td>\n",
              "      <td>2.973000</td>\n",
              "      <td>5.530500</td>\n",
              "      <td>1.500000</td>\n",
              "    </tr>\n",
              "    <tr>\n",
              "      <th>75%</th>\n",
              "      <td>18.720000</td>\n",
              "      <td>16.205000</td>\n",
              "      <td>0.894250</td>\n",
              "      <td>6.146750</td>\n",
              "      <td>3.693250</td>\n",
              "      <td>4.022000</td>\n",
              "      <td>5.976250</td>\n",
              "      <td>2.000000</td>\n",
              "    </tr>\n",
              "    <tr>\n",
              "      <th>max</th>\n",
              "      <td>21.180000</td>\n",
              "      <td>17.250000</td>\n",
              "      <td>0.918300</td>\n",
              "      <td>6.675000</td>\n",
              "      <td>4.033000</td>\n",
              "      <td>6.685000</td>\n",
              "      <td>6.550000</td>\n",
              "      <td>2.000000</td>\n",
              "    </tr>\n",
              "  </tbody>\n",
              "</table>\n",
              "</div>"
            ],
            "text/plain": [
              "             AREA   PERIMETER  COMPACTNESS      LENGTH       WIDTH  \\\n",
              "count  140.000000  140.000000   140.000000  140.000000  140.000000   \n",
              "mean    16.334357   15.215000     0.881794    5.828043    3.461021   \n",
              "std      2.406400    1.099006     0.015887    0.406740    0.282686   \n",
              "min     11.230000   12.630000     0.839200    4.902000    2.850000   \n",
              "25%     14.362500   14.335000     0.871450    5.519000    3.239250   \n",
              "50%     16.130000   15.130000     0.881850    5.808500    3.463500   \n",
              "75%     18.720000   16.205000     0.894250    6.146750    3.693250   \n",
              "max     21.180000   17.250000     0.918300    6.675000    4.033000   \n",
              "\n",
              "       ASSYMMETRY_COEFFICIENT  GROOVE_LENGTH        TYPE  \n",
              "count              140.000000     140.000000  140.000000  \n",
              "mean                 3.156101       5.553907    1.500000  \n",
              "std                  1.272003       0.534693    0.501795  \n",
              "min                  0.765100       4.519000    1.000000  \n",
              "25%                  2.220000       5.095500    1.000000  \n",
              "50%                  2.973000       5.530500    1.500000  \n",
              "75%                  4.022000       5.976250    2.000000  \n",
              "max                  6.685000       6.550000    2.000000  "
            ]
          },
          "metadata": {
            "tags": []
          },
          "execution_count": 7
        }
      ]
    },
    {
      "metadata": {
        "id": "lRiscN5GXWEa",
        "colab_type": "code",
        "outputId": "80f56eac-d825-43b7-a249-cd7ee91387e3",
        "colab": {
          "base_uri": "https://localhost:8080/",
          "height": 73
        }
      },
      "cell_type": "code",
      "source": [
        "data['TYPE'].value_counts()"
      ],
      "execution_count": 0,
      "outputs": [
        {
          "output_type": "execute_result",
          "data": {
            "text/plain": [
              "2    70\n",
              "1    70\n",
              "Name: TYPE, dtype: int64"
            ]
          },
          "metadata": {
            "tags": []
          },
          "execution_count": 9
        }
      ]
    },
    {
      "metadata": {
        "id": "b_-hSlSEYVWG",
        "colab_type": "code",
        "outputId": "e84579d5-bc59-4b8d-9b5b-12f7e4de30df",
        "colab": {
          "base_uri": "https://localhost:8080/",
          "height": 54
        }
      },
      "cell_type": "code",
      "source": [
        "# splitting the dataset into dependent and independent categories\n",
        "\n",
        "x = data.iloc[:,:7]\n",
        "y = data.iloc[:,7]\n",
        "\n",
        "print(x.shape)\n",
        "print(y.shape)"
      ],
      "execution_count": 0,
      "outputs": [
        {
          "output_type": "stream",
          "text": [
            "(140, 7)\n",
            "(140,)\n"
          ],
          "name": "stdout"
        }
      ]
    },
    {
      "metadata": {
        "id": "nhrHzcLQXqt8",
        "colab_type": "code",
        "outputId": "7d715252-2e57-4404-a601-35eaed50671a",
        "colab": {
          "base_uri": "https://localhost:8080/",
          "height": 148
        }
      },
      "cell_type": "code",
      "source": [
        "# splitting the data into two sets i.e., train and test set\n",
        "\n",
        "from sklearn.cross_validation import train_test_split\n",
        "\n",
        "x_train, x_test, y_train, y_test = train_test_split(x, y, test_size = 0.5, random_state = 0)\n",
        "\n",
        "print(x_train.shape)\n",
        "print(y_train.shape)\n",
        "print(x_test.shape)\n",
        "print(y_test.shape)"
      ],
      "execution_count": 0,
      "outputs": [
        {
          "output_type": "stream",
          "text": [
            "(70, 7)\n",
            "(70,)\n",
            "(70, 7)\n",
            "(70,)\n"
          ],
          "name": "stdout"
        },
        {
          "output_type": "stream",
          "text": [
            "/usr/local/lib/python3.6/dist-packages/sklearn/cross_validation.py:41: DeprecationWarning: This module was deprecated in version 0.18 in favor of the model_selection module into which all the refactored classes and functions are moved. Also note that the interface of the new CV iterators are different from that of this module. This module will be removed in 0.20.\n",
            "  \"This module will be removed in 0.20.\", DeprecationWarning)\n"
          ],
          "name": "stderr"
        }
      ]
    },
    {
      "metadata": {
        "id": "63VEJQSlaQug",
        "colab_type": "text"
      },
      "cell_type": "markdown",
      "source": [
        "**Modelling**"
      ]
    },
    {
      "metadata": {
        "id": "aZADkml5dEIF",
        "colab_type": "text"
      },
      "cell_type": "markdown",
      "source": [
        "**Logistic Regression**"
      ]
    },
    {
      "metadata": {
        "id": "NsVAFOBVaFZU",
        "colab_type": "code",
        "outputId": "d24bc896-8f23-4b53-8e9f-edd31bf0dbf7",
        "colab": {
          "base_uri": "https://localhost:8080/",
          "height": 54
        }
      },
      "cell_type": "code",
      "source": [
        "from sklearn.linear_model import LogisticRegression\n",
        "\n",
        "model = LogisticRegression()\n",
        "model.fit(x_train, y_train)\n",
        "\n",
        "model.predict(x_test)\n",
        "\n",
        "print(\"training accuracy :\", model.score(x_train, y_train))\n",
        "print(\"testing accuracy :\", model.score(x_test, y_test))\n",
        "\n"
      ],
      "execution_count": 0,
      "outputs": [
        {
          "output_type": "stream",
          "text": [
            "training accuracy : 0.9428571428571428\n",
            "testing accuracy : 0.9571428571428572\n"
          ],
          "name": "stdout"
        }
      ]
    },
    {
      "metadata": {
        "id": "LbTvl0XddZ2K",
        "colab_type": "text"
      },
      "cell_type": "markdown",
      "source": [
        "**Random Forest**"
      ]
    },
    {
      "metadata": {
        "id": "_5VnP30mc6tF",
        "colab_type": "code",
        "outputId": "6e60d8ce-5ab2-44c5-904c-0f0b5fe51b47",
        "colab": {
          "base_uri": "https://localhost:8080/",
          "height": 54
        }
      },
      "cell_type": "code",
      "source": [
        "from sklearn.ensemble import RandomForestClassifier\n",
        "\n",
        "model = RandomForestClassifier()\n",
        "model.fit(x_train, y_train)\n",
        "\n",
        "model.predict(x_test)\n",
        "\n",
        "print(\"training accuracy :\", model.score(x_train, y_train))\n",
        "print(\"testing accuracy :\", model.score(x_test, y_test))\n"
      ],
      "execution_count": 0,
      "outputs": [
        {
          "output_type": "stream",
          "text": [
            "training accuracy : 0.9857142857142858\n",
            "testing accuracy : 0.9714285714285714\n"
          ],
          "name": "stdout"
        }
      ]
    },
    {
      "metadata": {
        "id": "G_o37Zliel_b",
        "colab_type": "text"
      },
      "cell_type": "markdown",
      "source": [
        "**Support Vector Classifier**"
      ]
    },
    {
      "metadata": {
        "id": "KGrhxJdheiku",
        "colab_type": "code",
        "outputId": "2fc36a9b-c3c2-4081-f257-e08ffb814ffd",
        "colab": {
          "base_uri": "https://localhost:8080/",
          "height": 54
        }
      },
      "cell_type": "code",
      "source": [
        "from sklearn.svm import SVC\n",
        "\n",
        "model = SVC()\n",
        "model.fit(x_train, y_train)\n",
        "\n",
        "model.predict(x_test)\n",
        "\n",
        "print(\"training accuracy :\", model.score(x_train, y_train))\n",
        "print(\"testing accuracy :\", model.score(x_test, y_test))"
      ],
      "execution_count": 0,
      "outputs": [
        {
          "output_type": "stream",
          "text": [
            "training accuracy : 0.9571428571428572\n",
            "testing accuracy : 0.9285714285714286\n"
          ],
          "name": "stdout"
        }
      ]
    },
    {
      "metadata": {
        "id": "BTE9OUZZfjwi",
        "colab_type": "text"
      },
      "cell_type": "markdown",
      "source": [
        "**Decision Tree Classifier**"
      ]
    },
    {
      "metadata": {
        "id": "GqqNpIalfhp2",
        "colab_type": "code",
        "outputId": "c4726265-ce97-47d9-91ef-9cac72f1ab33",
        "colab": {
          "base_uri": "https://localhost:8080/",
          "height": 54
        }
      },
      "cell_type": "code",
      "source": [
        "from sklearn.tree import DecisionTreeClassifier\n",
        "\n",
        "model = DecisionTreeClassifier()\n",
        "model.fit(x_train, y_train)\n",
        "\n",
        "model.predict(x_test)\n",
        "\n",
        "print(\"training accuracy :\", model.score(x_train, y_train))\n",
        "print(\"testing accuracy :\", model.score(x_test, y_test))"
      ],
      "execution_count": 0,
      "outputs": [
        {
          "output_type": "stream",
          "text": [
            "training accuracy : 1.0\n",
            "testing accuracy : 0.9428571428571428\n"
          ],
          "name": "stdout"
        }
      ]
    },
    {
      "metadata": {
        "id": "1u2UkkRTgJeH",
        "colab_type": "text"
      },
      "cell_type": "markdown",
      "source": [
        "**Ada Boost Classifier**"
      ]
    },
    {
      "metadata": {
        "id": "jqKW-oXhgGjd",
        "colab_type": "code",
        "outputId": "e7f67b41-d086-4207-cac4-07a5f0abc4eb",
        "colab": {
          "base_uri": "https://localhost:8080/",
          "height": 54
        }
      },
      "cell_type": "code",
      "source": [
        "from sklearn.ensemble import AdaBoostClassifier\n",
        "\n",
        "model = AdaBoostClassifier()\n",
        "model.fit(x_train, y_train)\n",
        "\n",
        "model.predict(x_test)\n",
        "\n",
        "print(\"training accuracy :\", model.score(x_train, y_train))\n",
        "print(\"testing accuracy :\", model.score(x_test, y_test))"
      ],
      "execution_count": 0,
      "outputs": [
        {
          "output_type": "stream",
          "text": [
            "training accuracy : 1.0\n",
            "testing accuracy : 0.9571428571428572\n"
          ],
          "name": "stdout"
        }
      ]
    },
    {
      "metadata": {
        "id": "jCYYEmuThPgU",
        "colab_type": "text"
      },
      "cell_type": "markdown",
      "source": [
        "**Xg Boost Classifier**"
      ]
    },
    {
      "metadata": {
        "id": "9e-oxe3Wg9VV",
        "colab_type": "code",
        "outputId": "19566ed5-a827-4701-fd11-33f186ffbf7c",
        "colab": {
          "base_uri": "https://localhost:8080/",
          "height": 54
        }
      },
      "cell_type": "code",
      "source": [
        "from sklearn.ensemble import GradientBoostingClassifier\n",
        "\n",
        "model = GradientBoostingClassifier()\n",
        "model.fit(x_train, y_train)\n",
        "\n",
        "model.predict(x_test)\n",
        "\n",
        "print(\"training accuracy :\", model.score(x_train, y_train))\n",
        "print(\"testing accuracy :\", model.score(x_test, y_test))"
      ],
      "execution_count": 0,
      "outputs": [
        {
          "output_type": "stream",
          "text": [
            "training accuracy : 1.0\n",
            "testing accuracy : 0.9571428571428572\n"
          ],
          "name": "stdout"
        }
      ]
    },
    {
      "metadata": {
        "id": "VK0_uQ1LlF4I",
        "colab_type": "text"
      },
      "cell_type": "markdown",
      "source": [
        "**Multi Layer Perceptron**"
      ]
    },
    {
      "metadata": {
        "id": "XbSX7uxclU0f",
        "colab_type": "code",
        "outputId": "b30095a7-b654-4b3e-8cb7-6d63df4815d6",
        "colab": {
          "base_uri": "https://localhost:8080/",
          "height": 54
        }
      },
      "cell_type": "code",
      "source": [
        "from sklearn.neural_network import MLPClassifier\n",
        "\n",
        "model = MLPClassifier(hidden_layer_sizes = (100, 100), max_iter = 100)\n",
        "model.fit(x_train, y_train)\n",
        "y_pred = model.predict(x_test)\n",
        "\n",
        "\n",
        "print(\"Training Accuracy :\", model.score(x_train, y_train))\n",
        "print(\"Testing Accuracy :\", model.score(x_test, y_test))"
      ],
      "execution_count": 0,
      "outputs": [
        {
          "output_type": "stream",
          "text": [
            "Training Accuracy : 0.5142857142857142\n",
            "Testing Accuracy : 0.4857142857142857\n"
          ],
          "name": "stdout"
        }
      ]
    },
    {
      "metadata": {
        "id": "BIWA5Oksk39G",
        "colab_type": "text"
      },
      "cell_type": "markdown",
      "source": [
        "**Artificial Neural Networks**"
      ]
    },
    {
      "metadata": {
        "id": "iTrpjwbMl0_o",
        "colab_type": "text"
      },
      "cell_type": "markdown",
      "source": [
        "**Importing Libraries**"
      ]
    },
    {
      "metadata": {
        "id": "MukQ5PEtiB8g",
        "colab_type": "code",
        "outputId": "ceedbe17-a64e-4501-af91-bea4611aaebf",
        "colab": {
          "base_uri": "https://localhost:8080/",
          "height": 36
        }
      },
      "cell_type": "code",
      "source": [
        "import keras\n",
        "from keras.models import Sequential\n",
        "from keras.layers import Dense\n"
      ],
      "execution_count": 0,
      "outputs": [
        {
          "output_type": "stream",
          "text": [
            "Using TensorFlow backend.\n"
          ],
          "name": "stderr"
        }
      ]
    },
    {
      "metadata": {
        "id": "cMsgaFA8mLLn",
        "colab_type": "code",
        "outputId": "c5cee793-82f5-4f5a-a0fd-5780b16b8b38",
        "colab": {
          "base_uri": "https://localhost:8080/",
          "height": 944
        }
      },
      "cell_type": "code",
      "source": [
        "# creating the model\n",
        "model = Sequential()\n",
        "\n",
        "# first hidden layer\n",
        "model.add(Dense(output_dim = 10, init = 'uniform', activation = 'relu', input_dim = 7))\n",
        "\n",
        "# second hidden layer\n",
        "model.add(Dense(output_dim = 10, init = 'uniform', activation = 'relu'))\n",
        "\n",
        "# third hidden layer\n",
        "model.add(Dense(output_dim = 1, init = 'uniform', activation = 'sigmoid'))\n",
        "\n",
        "# compiling the neural network\n",
        "model.compile(optimizer = 'adam', loss = 'binary_crossentropy', metrics = ['accuracy'])\n",
        "\n",
        "#fitting the neural network\n",
        "model.fit(x_train, y_train, batch_size = 10, nb_epoch = 20)"
      ],
      "execution_count": 0,
      "outputs": [
        {
          "output_type": "stream",
          "text": [
            "/usr/local/lib/python3.6/dist-packages/ipykernel_launcher.py:4: UserWarning: Update your `Dense` call to the Keras 2 API: `Dense(activation=\"relu\", input_dim=7, units=10, kernel_initializer=\"uniform\")`\n",
            "  after removing the cwd from sys.path.\n",
            "/usr/local/lib/python3.6/dist-packages/ipykernel_launcher.py:7: UserWarning: Update your `Dense` call to the Keras 2 API: `Dense(activation=\"relu\", units=10, kernel_initializer=\"uniform\")`\n",
            "  import sys\n",
            "/usr/local/lib/python3.6/dist-packages/ipykernel_launcher.py:10: UserWarning: Update your `Dense` call to the Keras 2 API: `Dense(activation=\"sigmoid\", units=1, kernel_initializer=\"uniform\")`\n",
            "  # Remove the CWD from sys.path while we load stuff.\n",
            "/usr/local/lib/python3.6/dist-packages/ipykernel_launcher.py:16: UserWarning: The `nb_epoch` argument in `fit` has been renamed `epochs`.\n",
            "  app.launch_new_instance()\n"
          ],
          "name": "stderr"
        },
        {
          "output_type": "stream",
          "text": [
            "Epoch 1/20\n",
            "70/70 [==============================] - 0s 3ms/step - loss: 0.6919 - acc: 0.3286\n",
            "Epoch 2/20\n",
            "70/70 [==============================] - 0s 161us/step - loss: 0.6826 - acc: 0.5143\n",
            "Epoch 3/20\n",
            "70/70 [==============================] - 0s 176us/step - loss: 0.6743 - acc: 0.5143\n",
            "Epoch 4/20\n",
            "70/70 [==============================] - 0s 154us/step - loss: 0.6645 - acc: 0.5143\n",
            "Epoch 5/20\n",
            "70/70 [==============================] - 0s 163us/step - loss: 0.6520 - acc: 0.5143\n",
            "Epoch 6/20\n",
            "70/70 [==============================] - 0s 192us/step - loss: 0.6356 - acc: 0.5143\n",
            "Epoch 7/20\n",
            "70/70 [==============================] - 0s 174us/step - loss: 0.6122 - acc: 0.5143\n",
            "Epoch 8/20\n",
            "70/70 [==============================] - 0s 184us/step - loss: 0.5813 - acc: 0.5143\n",
            "Epoch 9/20\n",
            "70/70 [==============================] - 0s 192us/step - loss: 0.5396 - acc: 0.5143\n",
            "Epoch 10/20\n",
            "70/70 [==============================] - 0s 178us/step - loss: 0.4823 - acc: 0.5143\n",
            "Epoch 11/20\n",
            "70/70 [==============================] - 0s 190us/step - loss: 0.4094 - acc: 0.5143\n",
            "Epoch 12/20\n",
            "70/70 [==============================] - 0s 205us/step - loss: 0.3238 - acc: 0.5143\n",
            "Epoch 13/20\n",
            "70/70 [==============================] - 0s 174us/step - loss: 0.2120 - acc: 0.5143\n",
            "Epoch 14/20\n",
            "70/70 [==============================] - 0s 170us/step - loss: 0.0837 - acc: 0.5143\n",
            "Epoch 15/20\n",
            "70/70 [==============================] - 0s 158us/step - loss: -0.0637 - acc: 0.5143\n",
            "Epoch 16/20\n",
            "70/70 [==============================] - 0s 199us/step - loss: -0.2329 - acc: 0.5143\n",
            "Epoch 17/20\n",
            "70/70 [==============================] - 0s 181us/step - loss: -0.4173 - acc: 0.5143\n",
            "Epoch 18/20\n",
            "70/70 [==============================] - 0s 233us/step - loss: -0.6039 - acc: 0.5143\n",
            "Epoch 19/20\n",
            "70/70 [==============================] - 0s 165us/step - loss: -0.8230 - acc: 0.5143\n",
            "Epoch 20/20\n",
            "70/70 [==============================] - 0s 156us/step - loss: -1.0459 - acc: 0.5143\n"
          ],
          "name": "stdout"
        },
        {
          "output_type": "execute_result",
          "data": {
            "text/plain": [
              "<keras.callbacks.History at 0x7fcbec2e6cf8>"
            ]
          },
          "metadata": {
            "tags": []
          },
          "execution_count": 42
        }
      ]
    }
  ]
}